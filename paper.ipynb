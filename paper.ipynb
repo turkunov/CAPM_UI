{
 "cells": [
  {
   "attachments": {},
   "cell_type": "markdown",
   "metadata": {},
   "source": [
    "<h2><center>\"Portfolio models' research. CAPM model\"</center></h2>\n",
    "<h4><center>by Turkunov Y. (turkunov @ GitHub)</center></h4>"
   ]
  },
  {
   "attachments": {},
   "cell_type": "markdown",
   "metadata": {},
   "source": [
    "<br />\n",
    "<h4><center><b>Abstract</b></center></h4>\n",
    "<center>\n",
    "The topic of investing has seen a rapid rise of popularity in the past decade, therefore many models for more efficient stocks portfolio management are still being introduced by researchers. Many of them rely on very complex algorithms that tend to work poorly under unexpected conditions of the market. One of the simpliest and very powerful models that works well under these conditions is the single-factor Capital Asset Pricing Model (CAPM). It takes into account volatility of governmental bonds that show really well trends on the market. In this paper CAPM model's capabilities are going to be demonstrated using popular Python packages related to statistics.\n",
    "</center>"
   ]
  },
  {
   "attachments": {},
   "cell_type": "markdown",
   "metadata": {},
   "source": [
    "#### 1. **Introduction**\n",
    "Over the past few years, the popularity of the topic of investment has greatly increased. Over the past decade, not only has the existing methods of interaction with exchanges been modernized, the procedure for taking part in securities purchase transactions for ordinary people has been simplified, but a completely new financial asset has appeared – cryptocurrency. These events determine the urgency of the problem of forming and analyzing an investment portfolio – one of the main tools for managing shares of purchased securities for subsequent sale and profiting from them."
   ]
  },
  {
   "attachments": {},
   "cell_type": "markdown",
   "metadata": {},
   "source": [
    "#### **2. Theoretical basis of single-factor models**\n",
    "#### 2.1 Single-factor models\n",
    "To assess the effectiveness of investment portfolios, profitability models are used, within the framework of which regression equations are constructed, where the profitability of the studied asset is taken as an endogenous variable, and any random factors are taken as exogenous variables. Usually, these factors are the profitability of other assets or the market index. The most common is the one-factor yield model, where, as the name implies, the influence of only one random factor F on the yield R of some security is considered: $$R\\ =\\alpha+\\ \\beta F\\ +\\ \\epsilon$$ \n",
    "where $\\epsilon$ is a residual, $\\alpha$, $\\beta$ are constants selected as a result of using the OLS method with the minimization of SSE.\n",
    "\n",
    "#### 2.2 Single-factor CAPM model\n",
    "One of the most common and popular methods of evaluating the effectiveness of investments in an asset is the CAPM (Capital Asset Price Model). Within the framework of this model, we compile a linear function of the dependence of the expected yield of the studied asset I, which is planned to be added to the portfolio M, on some risk-free asset F, which is usually used as government bonds with fairly low interest payments, but practically zero risk of default. The CAPM formula looks like this:\n",
    "$$E\\left(R_i\\right)=R_f+\\beta_i\\left[E\\left(R_m\\right)-R_f\\right]$$\n",
    "where:\n",
    "* $R_i$ - expected return of the asset $I$\n",
    "* $R_f$ - expected return on a risk-free asset\n",
    "* $\\beta_{i}$ - covariance of a security with a market asset\n",
    "* $E\\left(R_m\\right)-R_f$ - risk premium, that is, the additional income of the investor, which he received as compensation for taking additional risk"
   ]
  },
  {
   "attachments": {},
   "cell_type": "markdown",
   "metadata": {},
   "source": [
    "#### **3.\tRegressional analysis of the CAPM model**\n",
    "#### 3.1. Preparing the data\n",
    "To study the CAPM model, we will use the Python programming language and consider real data for each month between January 2020 and November 2022, in particular coupons (interest payments) on US government bonds and yields (ROI) on shares of Google, Microsoft and Tesla. To get data about shares prices we will use the Yahoo!finance API using the `yfinance`."
   ]
  },
  {
   "cell_type": "code",
   "execution_count": null,
   "metadata": {},
   "outputs": [],
   "source": [
    "!pip install yfinance"
   ]
  },
  {
   "attachments": {},
   "cell_type": "markdown",
   "metadata": {},
   "source": [
    "We will receive data on coupons on government bonds from the official website of the US Treasury, which provides a free and very easy-to-use REST API: https://fiscaldata.treasury.gov/. Then we will load this data into a table, which we will call `yield_`."
   ]
  },
  {
   "cell_type": "code",
   "execution_count": 2,
   "metadata": {},
   "outputs": [
    {
     "data": {
      "text/html": [
       "<div>\n",
       "<style scoped>\n",
       "    .dataframe tbody tr th:only-of-type {\n",
       "        vertical-align: middle;\n",
       "    }\n",
       "\n",
       "    .dataframe tbody tr th {\n",
       "        vertical-align: top;\n",
       "    }\n",
       "\n",
       "    .dataframe thead th {\n",
       "        text-align: right;\n",
       "    }\n",
       "</style>\n",
       "<table border=\"1\" class=\"dataframe\">\n",
       "  <thead>\n",
       "    <tr style=\"text-align: right;\">\n",
       "      <th></th>\n",
       "      <th>record_date</th>\n",
       "      <th>avg_interest_rate_amt</th>\n",
       "    </tr>\n",
       "  </thead>\n",
       "  <tbody>\n",
       "    <tr>\n",
       "      <th>2</th>\n",
       "      <td>2012-02-01</td>\n",
       "      <td>5.619</td>\n",
       "    </tr>\n",
       "    <tr>\n",
       "      <th>18</th>\n",
       "      <td>2012-03-01</td>\n",
       "      <td>5.581</td>\n",
       "    </tr>\n",
       "    <tr>\n",
       "      <th>34</th>\n",
       "      <td>2012-04-01</td>\n",
       "      <td>5.554</td>\n",
       "    </tr>\n",
       "    <tr>\n",
       "      <th>57</th>\n",
       "      <td>2012-05-01</td>\n",
       "      <td>5.523</td>\n",
       "    </tr>\n",
       "    <tr>\n",
       "      <th>66</th>\n",
       "      <td>2012-06-01</td>\n",
       "      <td>5.488</td>\n",
       "    </tr>\n",
       "    <tr>\n",
       "      <th>...</th>\n",
       "      <td>...</td>\n",
       "      <td>...</td>\n",
       "    </tr>\n",
       "    <tr>\n",
       "      <th>2083</th>\n",
       "      <td>2022-08-01</td>\n",
       "      <td>3.004</td>\n",
       "    </tr>\n",
       "    <tr>\n",
       "      <th>2100</th>\n",
       "      <td>2022-09-01</td>\n",
       "      <td>2.997</td>\n",
       "    </tr>\n",
       "    <tr>\n",
       "      <th>2117</th>\n",
       "      <td>2022-10-01</td>\n",
       "      <td>3.001</td>\n",
       "    </tr>\n",
       "    <tr>\n",
       "      <th>2134</th>\n",
       "      <td>2022-11-01</td>\n",
       "      <td>3.009</td>\n",
       "    </tr>\n",
       "    <tr>\n",
       "      <th>2151</th>\n",
       "      <td>2022-12-01</td>\n",
       "      <td>3.012</td>\n",
       "    </tr>\n",
       "  </tbody>\n",
       "</table>\n",
       "<p>131 rows × 2 columns</p>\n",
       "</div>"
      ],
      "text/plain": [
       "     record_date  avg_interest_rate_amt\n",
       "2     2012-02-01                  5.619\n",
       "18    2012-03-01                  5.581\n",
       "34    2012-04-01                  5.554\n",
       "57    2012-05-01                  5.523\n",
       "66    2012-06-01                  5.488\n",
       "...          ...                    ...\n",
       "2083  2022-08-01                  3.004\n",
       "2100  2022-09-01                  2.997\n",
       "2117  2022-10-01                  3.001\n",
       "2134  2022-11-01                  3.009\n",
       "2151  2022-12-01                  3.012\n",
       "\n",
       "[131 rows x 2 columns]"
      ]
     },
     "execution_count": 2,
     "metadata": {},
     "output_type": "execute_result"
    }
   ],
   "source": [
    "# Feb 1 2012 till Dec 1 2022\n",
    "import requests\n",
    "import pandas as pd\n",
    "\n",
    "url = 'https://api.fiscaldata.treasury.gov/services/api/fiscal_service/v2/accounting/od/avg_interest_rates?page[size]=2166&&filter=record_date:gte:2012-01-01'\n",
    "fiscdata = requests.get(url).json()\n",
    "yeild_ = pd.DataFrame(fiscdata['data'])\n",
    "yeild_ = yeild_[(yeild_['security_desc'] == 'Treasury Bonds') & (yeild_['security_type_desc'] == 'Marketable')][['record_date','avg_interest_rate_amt']]\n",
    "yeild_['record_date'] = pd.to_datetime(yeild_['record_date']) + pd.Timedelta(days=1)\n",
    "yeild_['avg_interest_rate_amt'] = pd.to_numeric(yeild_['avg_interest_rate_amt'])\n",
    "yeild_"
   ]
  },
  {
   "attachments": {},
   "cell_type": "markdown",
   "metadata": {},
   "source": [
    "Then we will upload stock price data. January 1, 2019 will be set as the starting date, in order to then calculate the return on shares for the month of February."
   ]
  },
  {
   "cell_type": "code",
   "execution_count": 3,
   "metadata": {},
   "outputs": [
    {
     "name": "stdout",
     "output_type": "stream",
     "text": [
      "[*********************100%***********************]  3 of 3 completed\n"
     ]
    },
    {
     "data": {
      "text/html": [
       "<div>\n",
       "<style scoped>\n",
       "    .dataframe tbody tr th:only-of-type {\n",
       "        vertical-align: middle;\n",
       "    }\n",
       "\n",
       "    .dataframe tbody tr th {\n",
       "        vertical-align: top;\n",
       "    }\n",
       "\n",
       "    .dataframe thead tr th {\n",
       "        text-align: left;\n",
       "    }\n",
       "\n",
       "    .dataframe thead tr:last-of-type th {\n",
       "        text-align: right;\n",
       "    }\n",
       "</style>\n",
       "<table border=\"1\" class=\"dataframe\">\n",
       "  <thead>\n",
       "    <tr>\n",
       "      <th></th>\n",
       "      <th colspan=\"3\" halign=\"left\">Adj Close</th>\n",
       "      <th colspan=\"3\" halign=\"left\">Close</th>\n",
       "      <th colspan=\"3\" halign=\"left\">High</th>\n",
       "      <th colspan=\"3\" halign=\"left\">Low</th>\n",
       "      <th colspan=\"3\" halign=\"left\">Open</th>\n",
       "      <th colspan=\"3\" halign=\"left\">Volume</th>\n",
       "    </tr>\n",
       "    <tr>\n",
       "      <th></th>\n",
       "      <th>GOOGL</th>\n",
       "      <th>MSFT</th>\n",
       "      <th>TSLA</th>\n",
       "      <th>GOOGL</th>\n",
       "      <th>MSFT</th>\n",
       "      <th>TSLA</th>\n",
       "      <th>GOOGL</th>\n",
       "      <th>MSFT</th>\n",
       "      <th>TSLA</th>\n",
       "      <th>GOOGL</th>\n",
       "      <th>MSFT</th>\n",
       "      <th>TSLA</th>\n",
       "      <th>GOOGL</th>\n",
       "      <th>MSFT</th>\n",
       "      <th>TSLA</th>\n",
       "      <th>GOOGL</th>\n",
       "      <th>MSFT</th>\n",
       "      <th>TSLA</th>\n",
       "    </tr>\n",
       "    <tr>\n",
       "      <th>Date</th>\n",
       "      <th></th>\n",
       "      <th></th>\n",
       "      <th></th>\n",
       "      <th></th>\n",
       "      <th></th>\n",
       "      <th></th>\n",
       "      <th></th>\n",
       "      <th></th>\n",
       "      <th></th>\n",
       "      <th></th>\n",
       "      <th></th>\n",
       "      <th></th>\n",
       "      <th></th>\n",
       "      <th></th>\n",
       "      <th></th>\n",
       "      <th></th>\n",
       "      <th></th>\n",
       "      <th></th>\n",
       "    </tr>\n",
       "  </thead>\n",
       "  <tbody>\n",
       "    <tr>\n",
       "      <th>2022-08-01</th>\n",
       "      <td>108.220001</td>\n",
       "      <td>258.966797</td>\n",
       "      <td>275.609985</td>\n",
       "      <td>108.220001</td>\n",
       "      <td>261.470001</td>\n",
       "      <td>275.609985</td>\n",
       "      <td>122.430000</td>\n",
       "      <td>294.179993</td>\n",
       "      <td>314.666656</td>\n",
       "      <td>107.800003</td>\n",
       "      <td>260.660004</td>\n",
       "      <td>271.809998</td>\n",
       "      <td>115.300003</td>\n",
       "      <td>277.820007</td>\n",
       "      <td>301.276672</td>\n",
       "      <td>515852700</td>\n",
       "      <td>477157600</td>\n",
       "      <td>1695263200</td>\n",
       "    </tr>\n",
       "    <tr>\n",
       "      <th>2022-09-01</th>\n",
       "      <td>95.650002</td>\n",
       "      <td>231.159897</td>\n",
       "      <td>265.250000</td>\n",
       "      <td>95.650002</td>\n",
       "      <td>232.899994</td>\n",
       "      <td>265.250000</td>\n",
       "      <td>111.620003</td>\n",
       "      <td>267.450012</td>\n",
       "      <td>313.799988</td>\n",
       "      <td>95.559998</td>\n",
       "      <td>232.729996</td>\n",
       "      <td>262.470001</td>\n",
       "      <td>108.279999</td>\n",
       "      <td>258.869995</td>\n",
       "      <td>272.579987</td>\n",
       "      <td>613278900</td>\n",
       "      <td>575586600</td>\n",
       "      <td>1299271000</td>\n",
       "    </tr>\n",
       "    <tr>\n",
       "      <th>2022-10-01</th>\n",
       "      <td>94.510002</td>\n",
       "      <td>230.395676</td>\n",
       "      <td>227.539993</td>\n",
       "      <td>94.510002</td>\n",
       "      <td>232.130005</td>\n",
       "      <td>227.539993</td>\n",
       "      <td>104.820000</td>\n",
       "      <td>251.039993</td>\n",
       "      <td>257.500000</td>\n",
       "      <td>91.800003</td>\n",
       "      <td>219.130005</td>\n",
       "      <td>198.589996</td>\n",
       "      <td>96.760002</td>\n",
       "      <td>235.410004</td>\n",
       "      <td>254.500000</td>\n",
       "      <td>681488300</td>\n",
       "      <td>671225100</td>\n",
       "      <td>1735263100</td>\n",
       "    </tr>\n",
       "    <tr>\n",
       "      <th>2022-11-01</th>\n",
       "      <td>100.989998</td>\n",
       "      <td>253.233734</td>\n",
       "      <td>194.699997</td>\n",
       "      <td>100.989998</td>\n",
       "      <td>255.139999</td>\n",
       "      <td>194.699997</td>\n",
       "      <td>101.040001</td>\n",
       "      <td>255.330002</td>\n",
       "      <td>237.399994</td>\n",
       "      <td>83.339996</td>\n",
       "      <td>213.429993</td>\n",
       "      <td>166.190002</td>\n",
       "      <td>95.449997</td>\n",
       "      <td>234.600006</td>\n",
       "      <td>234.050003</td>\n",
       "      <td>716522700</td>\n",
       "      <td>615296000</td>\n",
       "      <td>1885275300</td>\n",
       "    </tr>\n",
       "    <tr>\n",
       "      <th>2022-12-01</th>\n",
       "      <td>88.230003</td>\n",
       "      <td>238.699020</td>\n",
       "      <td>123.180000</td>\n",
       "      <td>88.230003</td>\n",
       "      <td>239.820007</td>\n",
       "      <td>123.180000</td>\n",
       "      <td>102.250000</td>\n",
       "      <td>263.920013</td>\n",
       "      <td>198.919998</td>\n",
       "      <td>85.940002</td>\n",
       "      <td>233.869995</td>\n",
       "      <td>108.239998</td>\n",
       "      <td>101.019997</td>\n",
       "      <td>253.869995</td>\n",
       "      <td>197.080002</td>\n",
       "      <td>603127800</td>\n",
       "      <td>591358700</td>\n",
       "      <td>2944247700</td>\n",
       "    </tr>\n",
       "  </tbody>\n",
       "</table>\n",
       "</div>"
      ],
      "text/plain": [
       "             Adj Close                               Close               \n",
       "                 GOOGL        MSFT        TSLA       GOOGL        MSFT   \n",
       "Date                                                                     \n",
       "2022-08-01  108.220001  258.966797  275.609985  108.220001  261.470001  \\\n",
       "2022-09-01   95.650002  231.159897  265.250000   95.650002  232.899994   \n",
       "2022-10-01   94.510002  230.395676  227.539993   94.510002  232.130005   \n",
       "2022-11-01  100.989998  253.233734  194.699997  100.989998  255.139999   \n",
       "2022-12-01   88.230003  238.699020  123.180000   88.230003  239.820007   \n",
       "\n",
       "                              High                                 Low   \n",
       "                  TSLA       GOOGL        MSFT        TSLA       GOOGL   \n",
       "Date                                                                     \n",
       "2022-08-01  275.609985  122.430000  294.179993  314.666656  107.800003  \\\n",
       "2022-09-01  265.250000  111.620003  267.450012  313.799988   95.559998   \n",
       "2022-10-01  227.539993  104.820000  251.039993  257.500000   91.800003   \n",
       "2022-11-01  194.699997  101.040001  255.330002  237.399994   83.339996   \n",
       "2022-12-01  123.180000  102.250000  263.920013  198.919998   85.940002   \n",
       "\n",
       "                                          Open                           \n",
       "                  MSFT        TSLA       GOOGL        MSFT        TSLA   \n",
       "Date                                                                     \n",
       "2022-08-01  260.660004  271.809998  115.300003  277.820007  301.276672  \\\n",
       "2022-09-01  232.729996  262.470001  108.279999  258.869995  272.579987   \n",
       "2022-10-01  219.130005  198.589996   96.760002  235.410004  254.500000   \n",
       "2022-11-01  213.429993  166.190002   95.449997  234.600006  234.050003   \n",
       "2022-12-01  233.869995  108.239998  101.019997  253.869995  197.080002   \n",
       "\n",
       "               Volume                         \n",
       "                GOOGL       MSFT        TSLA  \n",
       "Date                                          \n",
       "2022-08-01  515852700  477157600  1695263200  \n",
       "2022-09-01  613278900  575586600  1299271000  \n",
       "2022-10-01  681488300  671225100  1735263100  \n",
       "2022-11-01  716522700  615296000  1885275300  \n",
       "2022-12-01  603127800  591358700  2944247700  "
      ]
     },
     "execution_count": 3,
     "metadata": {},
     "output_type": "execute_result"
    }
   ],
   "source": [
    "# loading data on Google, Microsoft and Tesla\n",
    "\n",
    "import yfinance as yf\n",
    "from datetime import datetime, timedelta\n",
    "\n",
    "tickers = 'GOOGL MSFT TSLA'\n",
    "data = yf.download(tickers, start=datetime(2012,1,1), end=datetime(2022,12,2), interval='1mo')\n",
    "data.tail()"
   ]
  },
  {
   "cell_type": "code",
   "execution_count": 4,
   "metadata": {},
   "outputs": [
    {
     "data": {
      "text/html": [
       "<div>\n",
       "<style scoped>\n",
       "    .dataframe tbody tr th:only-of-type {\n",
       "        vertical-align: middle;\n",
       "    }\n",
       "\n",
       "    .dataframe tbody tr th {\n",
       "        vertical-align: top;\n",
       "    }\n",
       "\n",
       "    .dataframe thead tr th {\n",
       "        text-align: left;\n",
       "    }\n",
       "\n",
       "    .dataframe thead tr:last-of-type th {\n",
       "        text-align: right;\n",
       "    }\n",
       "</style>\n",
       "<table border=\"1\" class=\"dataframe\">\n",
       "  <thead>\n",
       "    <tr>\n",
       "      <th></th>\n",
       "      <th colspan=\"3\" halign=\"left\">Adj Close</th>\n",
       "      <th colspan=\"3\" halign=\"left\">Close</th>\n",
       "      <th colspan=\"3\" halign=\"left\">High</th>\n",
       "      <th colspan=\"3\" halign=\"left\">Low</th>\n",
       "      <th colspan=\"3\" halign=\"left\">Open</th>\n",
       "      <th colspan=\"3\" halign=\"left\">Volume</th>\n",
       "    </tr>\n",
       "    <tr>\n",
       "      <th></th>\n",
       "      <th>GOOGL</th>\n",
       "      <th>MSFT</th>\n",
       "      <th>TSLA</th>\n",
       "      <th>GOOGL</th>\n",
       "      <th>MSFT</th>\n",
       "      <th>TSLA</th>\n",
       "      <th>GOOGL</th>\n",
       "      <th>MSFT</th>\n",
       "      <th>TSLA</th>\n",
       "      <th>GOOGL</th>\n",
       "      <th>MSFT</th>\n",
       "      <th>TSLA</th>\n",
       "      <th>GOOGL</th>\n",
       "      <th>MSFT</th>\n",
       "      <th>TSLA</th>\n",
       "      <th>GOOGL</th>\n",
       "      <th>MSFT</th>\n",
       "      <th>TSLA</th>\n",
       "    </tr>\n",
       "    <tr>\n",
       "      <th>Date</th>\n",
       "      <th></th>\n",
       "      <th></th>\n",
       "      <th></th>\n",
       "      <th></th>\n",
       "      <th></th>\n",
       "      <th></th>\n",
       "      <th></th>\n",
       "      <th></th>\n",
       "      <th></th>\n",
       "      <th></th>\n",
       "      <th></th>\n",
       "      <th></th>\n",
       "      <th></th>\n",
       "      <th></th>\n",
       "      <th></th>\n",
       "      <th></th>\n",
       "      <th></th>\n",
       "      <th></th>\n",
       "    </tr>\n",
       "  </thead>\n",
       "  <tbody>\n",
       "    <tr>\n",
       "      <th>2012-01-01</th>\n",
       "      <td>14.517267</td>\n",
       "      <td>23.569242</td>\n",
       "      <td>1.938000</td>\n",
       "      <td>14.517267</td>\n",
       "      <td>29.530001</td>\n",
       "      <td>1.938000</td>\n",
       "      <td>16.773024</td>\n",
       "      <td>29.950001</td>\n",
       "      <td>2.000000</td>\n",
       "      <td>14.127878</td>\n",
       "      <td>26.389999</td>\n",
       "      <td>1.509333</td>\n",
       "      <td>16.339840</td>\n",
       "      <td>26.549999</td>\n",
       "      <td>1.929333</td>\n",
       "      <td>2942758296</td>\n",
       "      <td>1354858100</td>\n",
       "      <td>384148500</td>\n",
       "    </tr>\n",
       "    <tr>\n",
       "      <th>2012-02-01</th>\n",
       "      <td>15.471722</td>\n",
       "      <td>25.333139</td>\n",
       "      <td>2.227333</td>\n",
       "      <td>15.471722</td>\n",
       "      <td>31.740000</td>\n",
       "      <td>2.227333</td>\n",
       "      <td>15.655656</td>\n",
       "      <td>32.000000</td>\n",
       "      <td>2.331333</td>\n",
       "      <td>14.492993</td>\n",
       "      <td>29.709999</td>\n",
       "      <td>1.933333</td>\n",
       "      <td>14.638138</td>\n",
       "      <td>29.790001</td>\n",
       "      <td>1.938000</td>\n",
       "      <td>1892689416</td>\n",
       "      <td>984332300</td>\n",
       "      <td>347904000</td>\n",
       "    </tr>\n",
       "    <tr>\n",
       "      <th>2012-03-01</th>\n",
       "      <td>16.047047</td>\n",
       "      <td>25.917688</td>\n",
       "      <td>2.482667</td>\n",
       "      <td>16.047047</td>\n",
       "      <td>32.259998</td>\n",
       "      <td>2.482667</td>\n",
       "      <td>16.481232</td>\n",
       "      <td>32.950001</td>\n",
       "      <td>2.663333</td>\n",
       "      <td>14.860861</td>\n",
       "      <td>31.490000</td>\n",
       "      <td>2.174667</td>\n",
       "      <td>15.572072</td>\n",
       "      <td>31.930000</td>\n",
       "      <td>2.234000</td>\n",
       "      <td>1891314792</td>\n",
       "      <td>942366500</td>\n",
       "      <td>332452500</td>\n",
       "    </tr>\n",
       "    <tr>\n",
       "      <th>2012-04-01</th>\n",
       "      <td>15.136386</td>\n",
       "      <td>25.724869</td>\n",
       "      <td>2.208667</td>\n",
       "      <td>15.136386</td>\n",
       "      <td>32.020000</td>\n",
       "      <td>2.208667</td>\n",
       "      <td>16.344845</td>\n",
       "      <td>32.889999</td>\n",
       "      <td>2.564667</td>\n",
       "      <td>14.769770</td>\n",
       "      <td>30.230000</td>\n",
       "      <td>2.066667</td>\n",
       "      <td>16.035286</td>\n",
       "      <td>32.220001</td>\n",
       "      <td>2.488667</td>\n",
       "      <td>2352752892</td>\n",
       "      <td>940739700</td>\n",
       "      <td>341293500</td>\n",
       "    </tr>\n",
       "    <tr>\n",
       "      <th>2012-05-01</th>\n",
       "      <td>14.536036</td>\n",
       "      <td>23.451244</td>\n",
       "      <td>1.966667</td>\n",
       "      <td>14.536036</td>\n",
       "      <td>29.190001</td>\n",
       "      <td>1.966667</td>\n",
       "      <td>15.962212</td>\n",
       "      <td>32.340000</td>\n",
       "      <td>2.312000</td>\n",
       "      <td>14.489489</td>\n",
       "      <td>28.639999</td>\n",
       "      <td>1.788667</td>\n",
       "      <td>15.109860</td>\n",
       "      <td>32.049999</td>\n",
       "      <td>2.208667</td>\n",
       "      <td>2344585068</td>\n",
       "      <td>1014372600</td>\n",
       "      <td>512779500</td>\n",
       "    </tr>\n",
       "  </tbody>\n",
       "</table>\n",
       "</div>"
      ],
      "text/plain": [
       "            Adj Close                           Close                        \n",
       "                GOOGL       MSFT      TSLA      GOOGL       MSFT      TSLA   \n",
       "Date                                                                         \n",
       "2012-01-01  14.517267  23.569242  1.938000  14.517267  29.530001  1.938000  \\\n",
       "2012-02-01  15.471722  25.333139  2.227333  15.471722  31.740000  2.227333   \n",
       "2012-03-01  16.047047  25.917688  2.482667  16.047047  32.259998  2.482667   \n",
       "2012-04-01  15.136386  25.724869  2.208667  15.136386  32.020000  2.208667   \n",
       "2012-05-01  14.536036  23.451244  1.966667  14.536036  29.190001  1.966667   \n",
       "\n",
       "                 High                             Low                        \n",
       "                GOOGL       MSFT      TSLA      GOOGL       MSFT      TSLA   \n",
       "Date                                                                         \n",
       "2012-01-01  16.773024  29.950001  2.000000  14.127878  26.389999  1.509333  \\\n",
       "2012-02-01  15.655656  32.000000  2.331333  14.492993  29.709999  1.933333   \n",
       "2012-03-01  16.481232  32.950001  2.663333  14.860861  31.490000  2.174667   \n",
       "2012-04-01  16.344845  32.889999  2.564667  14.769770  30.230000  2.066667   \n",
       "2012-05-01  15.962212  32.340000  2.312000  14.489489  28.639999  1.788667   \n",
       "\n",
       "                 Open                           Volume                         \n",
       "                GOOGL       MSFT      TSLA       GOOGL        MSFT       TSLA  \n",
       "Date                                                                           \n",
       "2012-01-01  16.339840  26.549999  1.929333  2942758296  1354858100  384148500  \n",
       "2012-02-01  14.638138  29.790001  1.938000  1892689416   984332300  347904000  \n",
       "2012-03-01  15.572072  31.930000  2.234000  1891314792   942366500  332452500  \n",
       "2012-04-01  16.035286  32.220001  2.488667  2352752892   940739700  341293500  \n",
       "2012-05-01  15.109860  32.049999  2.208667  2344585068  1014372600  512779500  "
      ]
     },
     "execution_count": 4,
     "metadata": {},
     "output_type": "execute_result"
    }
   ],
   "source": [
    "data.head()"
   ]
  },
  {
   "attachments": {},
   "cell_type": "markdown",
   "metadata": {},
   "source": [
    "For research, we will need the `Adj Close` column, which stores closing prices, taking into account dividend payments and other costs. After that, using this column, we will calculate the percentage change between months using `pct_change()` and get rid of the first row, since it is impossible to calculate the change relative to the previous value for it. The resulting array will be called `roi` for Returns On Investment."
   ]
  },
  {
   "cell_type": "code",
   "execution_count": 5,
   "metadata": {},
   "outputs": [
    {
     "data": {
      "text/html": [
       "<div>\n",
       "<style scoped>\n",
       "    .dataframe tbody tr th:only-of-type {\n",
       "        vertical-align: middle;\n",
       "    }\n",
       "\n",
       "    .dataframe tbody tr th {\n",
       "        vertical-align: top;\n",
       "    }\n",
       "\n",
       "    .dataframe thead th {\n",
       "        text-align: right;\n",
       "    }\n",
       "</style>\n",
       "<table border=\"1\" class=\"dataframe\">\n",
       "  <thead>\n",
       "    <tr style=\"text-align: right;\">\n",
       "      <th></th>\n",
       "      <th>Date</th>\n",
       "      <th>GOOGL</th>\n",
       "      <th>MSFT</th>\n",
       "      <th>TSLA</th>\n",
       "    </tr>\n",
       "  </thead>\n",
       "  <tbody>\n",
       "    <tr>\n",
       "      <th>0</th>\n",
       "      <td>2012-02-01</td>\n",
       "      <td>0.065746</td>\n",
       "      <td>0.074839</td>\n",
       "      <td>0.149295</td>\n",
       "    </tr>\n",
       "    <tr>\n",
       "      <th>1</th>\n",
       "      <td>2012-03-01</td>\n",
       "      <td>0.037186</td>\n",
       "      <td>0.023074</td>\n",
       "      <td>0.114637</td>\n",
       "    </tr>\n",
       "    <tr>\n",
       "      <th>2</th>\n",
       "      <td>2012-04-01</td>\n",
       "      <td>-0.056749</td>\n",
       "      <td>-0.007440</td>\n",
       "      <td>-0.110365</td>\n",
       "    </tr>\n",
       "    <tr>\n",
       "      <th>3</th>\n",
       "      <td>2012-05-01</td>\n",
       "      <td>-0.039663</td>\n",
       "      <td>-0.088382</td>\n",
       "      <td>-0.109568</td>\n",
       "    </tr>\n",
       "    <tr>\n",
       "      <th>4</th>\n",
       "      <td>2012-06-01</td>\n",
       "      <td>-0.001360</td>\n",
       "      <td>0.054838</td>\n",
       "      <td>0.060678</td>\n",
       "    </tr>\n",
       "  </tbody>\n",
       "</table>\n",
       "</div>"
      ],
      "text/plain": [
       "        Date     GOOGL      MSFT      TSLA\n",
       "0 2012-02-01  0.065746  0.074839  0.149295\n",
       "1 2012-03-01  0.037186  0.023074  0.114637\n",
       "2 2012-04-01 -0.056749 -0.007440 -0.110365\n",
       "3 2012-05-01 -0.039663 -0.088382 -0.109568\n",
       "4 2012-06-01 -0.001360  0.054838  0.060678"
      ]
     },
     "execution_count": 5,
     "metadata": {},
     "output_type": "execute_result"
    }
   ],
   "source": [
    "roi = data['Adj Close'].pct_change().dropna().reset_index()\n",
    "roi.head()"
   ]
  },
  {
   "attachments": {},
   "cell_type": "markdown",
   "metadata": {},
   "source": [
    "We then combine `roi` and US bond's `yield_` into a single table: `roi_and_yield`."
   ]
  },
  {
   "cell_type": "code",
   "execution_count": 6,
   "metadata": {},
   "outputs": [
    {
     "data": {
      "text/html": [
       "<div>\n",
       "<style scoped>\n",
       "    .dataframe tbody tr th:only-of-type {\n",
       "        vertical-align: middle;\n",
       "    }\n",
       "\n",
       "    .dataframe tbody tr th {\n",
       "        vertical-align: top;\n",
       "    }\n",
       "\n",
       "    .dataframe thead th {\n",
       "        text-align: right;\n",
       "    }\n",
       "</style>\n",
       "<table border=\"1\" class=\"dataframe\">\n",
       "  <thead>\n",
       "    <tr style=\"text-align: right;\">\n",
       "      <th></th>\n",
       "      <th>Date</th>\n",
       "      <th>GOOGL</th>\n",
       "      <th>MSFT</th>\n",
       "      <th>TSLA</th>\n",
       "      <th>US bond yeild</th>\n",
       "    </tr>\n",
       "  </thead>\n",
       "  <tbody>\n",
       "    <tr>\n",
       "      <th>0</th>\n",
       "      <td>2012-02-01</td>\n",
       "      <td>0.065746</td>\n",
       "      <td>0.074839</td>\n",
       "      <td>0.149295</td>\n",
       "      <td>5.619</td>\n",
       "    </tr>\n",
       "    <tr>\n",
       "      <th>1</th>\n",
       "      <td>2012-03-01</td>\n",
       "      <td>0.037186</td>\n",
       "      <td>0.023074</td>\n",
       "      <td>0.114637</td>\n",
       "      <td>5.581</td>\n",
       "    </tr>\n",
       "    <tr>\n",
       "      <th>2</th>\n",
       "      <td>2012-04-01</td>\n",
       "      <td>-0.056749</td>\n",
       "      <td>-0.007440</td>\n",
       "      <td>-0.110365</td>\n",
       "      <td>5.554</td>\n",
       "    </tr>\n",
       "    <tr>\n",
       "      <th>3</th>\n",
       "      <td>2012-05-01</td>\n",
       "      <td>-0.039663</td>\n",
       "      <td>-0.088382</td>\n",
       "      <td>-0.109568</td>\n",
       "      <td>5.523</td>\n",
       "    </tr>\n",
       "    <tr>\n",
       "      <th>4</th>\n",
       "      <td>2012-06-01</td>\n",
       "      <td>-0.001360</td>\n",
       "      <td>0.054838</td>\n",
       "      <td>0.060678</td>\n",
       "      <td>5.488</td>\n",
       "    </tr>\n",
       "  </tbody>\n",
       "</table>\n",
       "</div>"
      ],
      "text/plain": [
       "        Date     GOOGL      MSFT      TSLA  US bond yeild\n",
       "0 2012-02-01  0.065746  0.074839  0.149295          5.619\n",
       "1 2012-03-01  0.037186  0.023074  0.114637          5.581\n",
       "2 2012-04-01 -0.056749 -0.007440 -0.110365          5.554\n",
       "3 2012-05-01 -0.039663 -0.088382 -0.109568          5.523\n",
       "4 2012-06-01 -0.001360  0.054838  0.060678          5.488"
      ]
     },
     "execution_count": 6,
     "metadata": {},
     "output_type": "execute_result"
    }
   ],
   "source": [
    "roi_and_yield = roi.merge(yeild_, left_on='Date', right_on='record_date')[['Date', 'GOOGL', 'MSFT', 'TSLA', 'avg_interest_rate_amt']]\n",
    "roi_and_yield.columns = ['Date', 'GOOGL', 'MSFT', 'TSLA', 'US bond yeild']\n",
    "roi_and_yield.head()"
   ]
  },
  {
   "attachments": {},
   "cell_type": "markdown",
   "metadata": {},
   "source": [
    "#### 3.2. Creating a portfolio\n",
    "For the sake of demonstration a following example portfolio will be formed:\n",
    "* Google (GOOGL) will make up 25% of the portfolio\n",
    "* Microsoft (MSFT) will make up 35% of the portfolio\n",
    "* Tesla (TSLA) will make up 40% of the portfolio\n",
    "\n",
    "After that, we will calculate for each the market expected return of our portfolio $R_m=\\sum_{i=1}^{3}x_i\\times\\mu_i$, where $x_i$ is the share of the $i$-th share in the portfolio, and $\\mu_i$ is its yield. For the vector of the resulting yield values, we will form a column `mu_m` in the existing table."
   ]
  },
  {
   "cell_type": "code",
   "execution_count": 7,
   "metadata": {},
   "outputs": [
    {
     "data": {
      "text/html": [
       "<div>\n",
       "<style scoped>\n",
       "    .dataframe tbody tr th:only-of-type {\n",
       "        vertical-align: middle;\n",
       "    }\n",
       "\n",
       "    .dataframe tbody tr th {\n",
       "        vertical-align: top;\n",
       "    }\n",
       "\n",
       "    .dataframe thead th {\n",
       "        text-align: right;\n",
       "    }\n",
       "</style>\n",
       "<table border=\"1\" class=\"dataframe\">\n",
       "  <thead>\n",
       "    <tr style=\"text-align: right;\">\n",
       "      <th></th>\n",
       "      <th>Date</th>\n",
       "      <th>GOOGL</th>\n",
       "      <th>MSFT</th>\n",
       "      <th>TSLA</th>\n",
       "      <th>US bond yeild</th>\n",
       "      <th>mu_m</th>\n",
       "    </tr>\n",
       "  </thead>\n",
       "  <tbody>\n",
       "    <tr>\n",
       "      <th>0</th>\n",
       "      <td>2012-02-01</td>\n",
       "      <td>0.065746</td>\n",
       "      <td>0.074839</td>\n",
       "      <td>0.149295</td>\n",
       "      <td>0.05619</td>\n",
       "      <td>0.102348</td>\n",
       "    </tr>\n",
       "    <tr>\n",
       "      <th>1</th>\n",
       "      <td>2012-03-01</td>\n",
       "      <td>0.037186</td>\n",
       "      <td>0.023074</td>\n",
       "      <td>0.114637</td>\n",
       "      <td>0.05581</td>\n",
       "      <td>0.063227</td>\n",
       "    </tr>\n",
       "    <tr>\n",
       "      <th>2</th>\n",
       "      <td>2012-04-01</td>\n",
       "      <td>-0.056749</td>\n",
       "      <td>-0.007440</td>\n",
       "      <td>-0.110365</td>\n",
       "      <td>0.05554</td>\n",
       "      <td>-0.060937</td>\n",
       "    </tr>\n",
       "    <tr>\n",
       "      <th>3</th>\n",
       "      <td>2012-05-01</td>\n",
       "      <td>-0.039663</td>\n",
       "      <td>-0.088382</td>\n",
       "      <td>-0.109568</td>\n",
       "      <td>0.05523</td>\n",
       "      <td>-0.084677</td>\n",
       "    </tr>\n",
       "    <tr>\n",
       "      <th>4</th>\n",
       "      <td>2012-06-01</td>\n",
       "      <td>-0.001360</td>\n",
       "      <td>0.054838</td>\n",
       "      <td>0.060678</td>\n",
       "      <td>0.05488</td>\n",
       "      <td>0.043124</td>\n",
       "    </tr>\n",
       "  </tbody>\n",
       "</table>\n",
       "</div>"
      ],
      "text/plain": [
       "        Date     GOOGL      MSFT      TSLA  US bond yeild      mu_m\n",
       "0 2012-02-01  0.065746  0.074839  0.149295        0.05619  0.102348\n",
       "1 2012-03-01  0.037186  0.023074  0.114637        0.05581  0.063227\n",
       "2 2012-04-01 -0.056749 -0.007440 -0.110365        0.05554 -0.060937\n",
       "3 2012-05-01 -0.039663 -0.088382 -0.109568        0.05523 -0.084677\n",
       "4 2012-06-01 -0.001360  0.054838  0.060678        0.05488  0.043124"
      ]
     },
     "execution_count": 7,
     "metadata": {},
     "output_type": "execute_result"
    }
   ],
   "source": [
    "import numpy as np\n",
    "\n",
    "volumes = np.array([0.25, 0.35, 0.4])\n",
    "roi_and_yield['mu_m'] = np.sum(roi_and_yield[['GOOGL','MSFT','TSLA']] * volumes, axis=1)\n",
    "roi_and_yield['US bond yeild'] = roi_and_yield['US bond yeild'] * .01\n",
    "roi_and_yield.head()"
   ]
  },
  {
   "attachments": {},
   "cell_type": "markdown",
   "metadata": {},
   "source": [
    "After calculating the yields of $R_m$, risk premium for each month will be calculating using the difference of the vectors `mu_m` (portfolio yields) and `US bond yeild` (risk-free interest rates). For the resulting vector, we will form column called `premium`."
   ]
  },
  {
   "cell_type": "code",
   "execution_count": 8,
   "metadata": {},
   "outputs": [
    {
     "data": {
      "text/html": [
       "<div>\n",
       "<style scoped>\n",
       "    .dataframe tbody tr th:only-of-type {\n",
       "        vertical-align: middle;\n",
       "    }\n",
       "\n",
       "    .dataframe tbody tr th {\n",
       "        vertical-align: top;\n",
       "    }\n",
       "\n",
       "    .dataframe thead th {\n",
       "        text-align: right;\n",
       "    }\n",
       "</style>\n",
       "<table border=\"1\" class=\"dataframe\">\n",
       "  <thead>\n",
       "    <tr style=\"text-align: right;\">\n",
       "      <th></th>\n",
       "      <th>Date</th>\n",
       "      <th>GOOGL</th>\n",
       "      <th>MSFT</th>\n",
       "      <th>TSLA</th>\n",
       "      <th>US bond yeild</th>\n",
       "      <th>mu_m</th>\n",
       "      <th>premium</th>\n",
       "    </tr>\n",
       "  </thead>\n",
       "  <tbody>\n",
       "    <tr>\n",
       "      <th>0</th>\n",
       "      <td>2012-02-01</td>\n",
       "      <td>0.065746</td>\n",
       "      <td>0.074839</td>\n",
       "      <td>0.149295</td>\n",
       "      <td>0.05619</td>\n",
       "      <td>0.102348</td>\n",
       "      <td>0.046158</td>\n",
       "    </tr>\n",
       "    <tr>\n",
       "      <th>1</th>\n",
       "      <td>2012-03-01</td>\n",
       "      <td>0.037186</td>\n",
       "      <td>0.023074</td>\n",
       "      <td>0.114637</td>\n",
       "      <td>0.05581</td>\n",
       "      <td>0.063227</td>\n",
       "      <td>0.007417</td>\n",
       "    </tr>\n",
       "    <tr>\n",
       "      <th>2</th>\n",
       "      <td>2012-04-01</td>\n",
       "      <td>-0.056749</td>\n",
       "      <td>-0.007440</td>\n",
       "      <td>-0.110365</td>\n",
       "      <td>0.05554</td>\n",
       "      <td>-0.060937</td>\n",
       "      <td>-0.116477</td>\n",
       "    </tr>\n",
       "    <tr>\n",
       "      <th>3</th>\n",
       "      <td>2012-05-01</td>\n",
       "      <td>-0.039663</td>\n",
       "      <td>-0.088382</td>\n",
       "      <td>-0.109568</td>\n",
       "      <td>0.05523</td>\n",
       "      <td>-0.084677</td>\n",
       "      <td>-0.139907</td>\n",
       "    </tr>\n",
       "    <tr>\n",
       "      <th>4</th>\n",
       "      <td>2012-06-01</td>\n",
       "      <td>-0.001360</td>\n",
       "      <td>0.054838</td>\n",
       "      <td>0.060678</td>\n",
       "      <td>0.05488</td>\n",
       "      <td>0.043124</td>\n",
       "      <td>-0.011756</td>\n",
       "    </tr>\n",
       "  </tbody>\n",
       "</table>\n",
       "</div>"
      ],
      "text/plain": [
       "        Date     GOOGL      MSFT      TSLA  US bond yeild      mu_m   premium\n",
       "0 2012-02-01  0.065746  0.074839  0.149295        0.05619  0.102348  0.046158\n",
       "1 2012-03-01  0.037186  0.023074  0.114637        0.05581  0.063227  0.007417\n",
       "2 2012-04-01 -0.056749 -0.007440 -0.110365        0.05554 -0.060937 -0.116477\n",
       "3 2012-05-01 -0.039663 -0.088382 -0.109568        0.05523 -0.084677 -0.139907\n",
       "4 2012-06-01 -0.001360  0.054838  0.060678        0.05488  0.043124 -0.011756"
      ]
     },
     "execution_count": 8,
     "metadata": {},
     "output_type": "execute_result"
    }
   ],
   "source": [
    "roi_and_yield['premium'] = roi_and_yield['mu_m'] - roi_and_yield['US bond yeild']\n",
    "roi_and_yield.head()"
   ]
  },
  {
   "attachments": {},
   "cell_type": "markdown",
   "metadata": {},
   "source": [
    "#### 3.3. The reason behind the relation between premium and profitability\n",
    "Before performing an actual regression analysis, it is necessary to make sure of the general logical conditionality of the data. Following a distribution between the premium and the returns on company shares it becomes clear that with an increase in the premium, the yield on shares also increases. This relation must be present, since an increase in the premium indicates an increase in risk, which should, in its turn, lead to greater profitability. Otherwise, the investment would be unprofitable."
   ]
  },
  {
   "cell_type": "code",
   "execution_count": 10,
   "metadata": {},
   "outputs": [
    {
     "data": {
      "image/png": "[encoded data removed]",
      "text/plain": [
       "<Figure size 1500x500 with 3 Axes>"
      ]
     },
     "metadata": {},
     "output_type": "display_data"
    }
   ],
   "source": [
    "import matplotlib.pyplot as plt\n",
    "import seaborn as sns\n",
    "\n",
    "fig, axs = plt.subplots(1, 3, figsize=(15, 5), sharex=True, sharey=True)\n",
    "first_scatter = sns.scatterplot(x=roi_and_yield['premium'], y=roi_and_yield['TSLA'], hue=roi_and_yield['TSLA'], ax=axs[0])\n",
    "first_scatter.set(xlabel=None, ylabel='Profitability')\n",
    "second_scatter = sns.scatterplot(x=roi_and_yield['premium'], y=roi_and_yield['GOOGL'], hue=roi_and_yield['GOOGL'], ax=axs[1])\n",
    "second_scatter.set(xlabel='Premium')\n",
    "third_scatter = sns.scatterplot(x=roi_and_yield['premium'], y=roi_and_yield['MSFT'], hue=roi_and_yield['MSFT'], ax=axs[2])\n",
    "third_scatter.set(xlabel=None)\n",
    "fig.tight_layout()"
   ]
  },
  {
   "attachments": {},
   "cell_type": "markdown",
   "metadata": {},
   "source": [
    "#### 3.4. Building regression model with its quality assesment"
   ]
  },
  {
   "cell_type": "code",
   "execution_count": null,
   "metadata": {},
   "outputs": [],
   "source": [
    "!pip install sklearn "
   ]
  },
  {
   "attachments": {},
   "cell_type": "markdown",
   "metadata": {},
   "source": [
    "First, we can denote the premium (`premium`) for an exogenous variable and the expected return of a stock (for example, shares of Tesla (TSLA)) for an endogenous one."
   ]
  },
  {
   "cell_type": "code",
   "execution_count": 9,
   "metadata": {},
   "outputs": [],
   "source": [
    "y = roi_and_yield['TSLA'] \n",
    "x = roi_and_yield['premium']"
   ]
  },
  {
   "attachments": {},
   "cell_type": "markdown",
   "metadata": {},
   "source": [
    "Before passing anything to the model however, we'll also need to split data into training and test sets:"
   ]
  },
  {
   "cell_type": "code",
   "execution_count": 55,
   "metadata": {},
   "outputs": [
    {
     "name": "stdout",
     "output_type": "stream",
     "text": [
      "(111, 1) (20, 1)\n"
     ]
    }
   ],
   "source": [
    "from sklearn.model_selection import train_test_split\n",
    "\n",
    "x_train, x_test, y_train, y_test = train_test_split(x.to_numpy().reshape(-1,1), y.to_numpy().reshape(-1,1), test_size=.15, random_state=123)\n",
    "print(x_train.shape, y_test.shape)"
   ]
  },
  {
   "attachments": {},
   "cell_type": "markdown",
   "metadata": {},
   "source": [
    "Initialize constant values, namely:\n",
    "* `m` is the number of exogenous variables\n",
    "* `n` is the number of observations\n",
    "* `df_` - number of degrees of freedom\n",
    "* `alpha_level` - significance level\n",
    "* `tCrit` - T statistic for the significance level of `alpha_level` and `df_` degrees of freedom\n",
    "* `fCrit` - F statistic for the significance level `alpha_level`, `m` of the number of exogenous observations and `df_` degrees of freedom"
   ]
  },
  {
   "cell_type": "code",
   "execution_count": 56,
   "metadata": {},
   "outputs": [],
   "source": [
    "import scipy.stats as sps\n",
    "\n",
    "m = 1 \n",
    "n = x_train.shape[0]\n",
    "df_ = n - m - 1\n",
    "alpha_level = 0.05\n",
    "tCrit = sps.t.ppf(1-alpha_level/2, df_)\n",
    "fCrit = sps.f.ppf(1-alpha_level, m, df_)"
   ]
  },
  {
   "attachments": {},
   "cell_type": "markdown",
   "metadata": {},
   "source": [
    "Then we must ensure the significance of the correlation coefficient between X and Y. To do this, using the `numpy` package, we will build a correlation matrix, take the paired correlation coefficient from it, calculate the value of T statistic by the formula: $\\frac{\\sqrt{\\rho*(n-2)}}{\\sqrt{(1-\\rho^2)}}$, where $\\rho$ is the correlation coefficient between X and Y."
   ]
  },
  {
   "cell_type": "code",
   "execution_count": 57,
   "metadata": {},
   "outputs": [
    {
     "data": {
      "text/plain": [
       "{'tstat': 28.807953775634147,\n",
       " 'tcrit': 1.981967489688474,\n",
       " 'statistical significance': True}"
      ]
     },
     "execution_count": 57,
     "metadata": {},
     "output_type": "execute_result"
    }
   ],
   "source": [
    "import numpy as np\n",
    "\n",
    "rho_corr = np.corrcoef(roi_and_yield['TSLA'], roi_and_yield['premium'])[0,1]\n",
    "tst = rho_corr*(n-2)**0.5/(1-rho_corr**2)**0.5\n",
    "rho_corr_significance = {'tstat': tst, 'tcrit': tCrit, 'statistical significance': tst > tCrit}\n",
    "rho_corr_significance"
   ]
  },
  {
   "attachments": {},
   "cell_type": "markdown",
   "metadata": {},
   "source": [
    "#### 3.5. CAPM regression model. Assesment using $MSE$ and $R^2$\n",
    "Since the `statsmodels` package provide a more detailed feedback on the model we can first initialize a model using `OLS()`."
   ]
  },
  {
   "cell_type": "code",
   "execution_count": null,
   "metadata": {},
   "outputs": [],
   "source": [
    "%pip install statsmodels"
   ]
  },
  {
   "cell_type": "code",
   "execution_count": 36,
   "metadata": {},
   "outputs": [],
   "source": [
    "import statsmodels.api as sm\n",
    "\n",
    "X = sm.add_constant(x_train)\n",
    "reg = sm.OLS(y_train, X).fit()\n",
    "b0, b1 = reg.params\n",
    "yHat = np.vectorize(lambda vect: vect*b1 + b0)\n",
    "yHatText = f'y^ = {round(b0,5)} + {round(b1,5)}*x'"
   ]
  },
  {
   "cell_type": "code",
   "execution_count": 37,
   "metadata": {},
   "outputs": [
    {
     "data": {
      "text/plain": [
       "'y^ = 0.07155 + 1.92385*x'"
      ]
     },
     "execution_count": 37,
     "metadata": {},
     "output_type": "execute_result"
    }
   ],
   "source": [
    "yHatText # equation"
   ]
  },
  {
   "cell_type": "code",
   "execution_count": 38,
   "metadata": {},
   "outputs": [
    {
     "data": {
      "text/plain": [
       "(0.07155255124075346, 1.923846331395721)"
      ]
     },
     "execution_count": 38,
     "metadata": {},
     "output_type": "execute_result"
    }
   ],
   "source": [
    "b0, b1 # coefficients"
   ]
  },
  {
   "attachments": {},
   "cell_type": "markdown",
   "metadata": {},
   "source": [
    "As a result of using the least squares method, we will find the coefficients of the linear regression equation: $b_0=0.07155255124075346$ and $b_1=1.923846331395721$. Thus, the linear regression equation will look like this: $\\bar{y}=0.07155255124075346+1.923846331395721\\times x$, where $\\bar{y}$ is the expected return of the stock $E(R_i)$, and $x$ is the risk premium. This equation can be also explained as follows: \"with an increase in the premium by 1%, the expected return is $E(R_i)$ will increase by ~1.92%.\" Using this equation, we will be able to estimate how profitable an investment in an asset $R_i$ will be. However, for the direct application of this model, it is necessary to evaluate the estimates obtained as a result of the OLS using the Gauss-Markov theorem. Before checking the criteria, we will additionally build a regression model using another package - `sklearn`."
   ]
  },
  {
   "cell_type": "code",
   "execution_count": 52,
   "metadata": {},
   "outputs": [
    {
     "name": "stdout",
     "output_type": "stream",
     "text": [
      "0.004124667166650152 0.8890202205455517 [[1.92384633]]\n"
     ]
    },
    {
     "data": {
      "text/plain": [
       "<matplotlib.legend.Legend at 0x20a8e24e980>"
      ]
     },
     "execution_count": 52,
     "metadata": {},
     "output_type": "execute_result"
    },
    {
     "data": {
      "image/png": "[encoded data removed]",
      "text/plain": [
       "<Figure size 640x480 with 1 Axes>"
      ]
     },
     "metadata": {},
     "output_type": "display_data"
    }
   ],
   "source": [
    "from sklearn.linear_model import LinearRegression\n",
    "from sklearn.metrics import mean_squared_error, r2_score\n",
    "\n",
    "reg_sklearn = LinearRegression()\n",
    "reg_sklearn.fit(x_train, y_train)\n",
    "yPredicted = reg_sklearn.predict(x_train)\n",
    "print(mean_squared_error(y_train, yPredicted), r2_score(y_train, yPredicted), reg_sklearn.coef_)\n",
    "yPredicted = yPredicted.reshape(1,-1)[0]\n",
    "sns.scatterplot(x=x_train.reshape(1,-1)[0], y=y_train.reshape(1,-1)[0], hue=y_train.reshape(1,-1)[0])\n",
    "plt.plot(x_train,yPredicted)\n",
    "plt.xlabel('Premium')\n",
    "plt.ylabel('Profitability')\n",
    "plt.legend([])"
   ]
  },
  {
   "cell_type": "code",
   "execution_count": 54,
   "metadata": {},
   "outputs": [
    {
     "name": "stdout",
     "output_type": "stream",
     "text": [
      "0.0032094868049421603 0.8117241045992285\n"
     ]
    },
    {
     "data": {
      "text/plain": [
       "Text(0, 0.5, 'Profitability')"
      ]
     },
     "execution_count": 54,
     "metadata": {},
     "output_type": "execute_result"
    },
    {
     "data": {
      "image/png": "[encoded data removed]",
      "text/plain": [
       "<Figure size 640x480 with 1 Axes>"
      ]
     },
     "metadata": {},
     "output_type": "display_data"
    }
   ],
   "source": [
    "yPredicted_test = reg_sklearn.predict(x_test)\n",
    "print(mean_squared_error(y_test, yPredicted_test), r2_score(y_test, yPredicted_test))\n",
    "yPredicted = yPredicted_test.reshape(1,-1)[0]\n",
    "sns.scatterplot(x=x_test.reshape(1,-1)[0], y=y_test.reshape(1,-1)[0])\n",
    "plt.plot(x_test,yPredicted)\n",
    "plt.xlabel('Premium')\n",
    "plt.ylabel('Profitability')"
   ]
  },
  {
   "attachments": {},
   "cell_type": "markdown",
   "metadata": {},
   "source": [
    "As a result of using the `sklearn` package, we got the same coefficients of the regression equation. Additionally, before evaluating the statistical significance of the equation, we will evaluate the quality of predictions using metrics $MSE$ and $R^2$ on the training set:\n",
    "* $MSE_{\\text{train}}=0.004124667166650152$\n",
    "* $R^2_{\\text{train}}=0.8890202205455517$\n",
    "\n",
    "And on the test set of data:\n",
    "* $MSE_{\\text{test}}=0.0032094868049421603$\n",
    "* $R^2_{\\text{test}}=0.8117241045992285$\n",
    "\n",
    "Both metrics for training and test sets showed pretty good results. We will also build a graph on which we will depict the linear regression function and the distribution of profitability with a premium. As a result of plotting, you can also make sure that the regression equation follows a trend pretty good.\n",
    "\n",
    "After performing additional calculations, we will determine new constant values:\n",
    "* `ei` - residuals\n",
    "* `FSTs` - F statistics, which we later use to evaluate the statistical significance of the equation\n",
    "* `paramsSignificances` - T statistics for each coefficient of the regression equation for subsequent evaluation of their statistical significance"
   ]
  },
  {
   "cell_type": "code",
   "execution_count": 65,
   "metadata": {},
   "outputs": [],
   "source": [
    "ei = reg.resid\n",
    "fSts = reg.fvalue \n",
    "paramsSignificances = reg.tvalues"
   ]
  },
  {
   "attachments": {},
   "cell_type": "markdown",
   "metadata": {},
   "source": [
    "#### 3.6. Assessment of coefficients of the regression equation\n",
    "As a result of comparing each with $T_{crit}$, we get that both coefficients $b_0$ with $T_{stat}=12.808381$ and $b_1$ with $T_{stat}=30.958976$ are statistically significant."
   ]
  },
  {
   "cell_type": "code",
   "execution_count": 60,
   "metadata": {},
   "outputs": [
    {
     "data": {
      "text/plain": [
       "array([11.48265674, 29.54929609])"
      ]
     },
     "execution_count": 60,
     "metadata": {},
     "output_type": "execute_result"
    }
   ],
   "source": [
    "paramsSignificances"
   ]
  },
  {
   "cell_type": "code",
   "execution_count": 61,
   "metadata": {},
   "outputs": [
    {
     "data": {
      "text/plain": [
       "array([ True,  True])"
      ]
     },
     "execution_count": 61,
     "metadata": {},
     "output_type": "execute_result"
    }
   ],
   "source": [
    "paramsSignificances > tCrit"
   ]
  },
  {
   "attachments": {},
   "cell_type": "markdown",
   "metadata": {},
   "source": [
    "#### 3.7. Estimating equation's statistical significance and approximation error\n",
    "In order to determine the statistical significance of the linear regression equation, it is necessary to compare F statistic with the critical value. Since the F-statistic of the equation is greater than the critical value, the resulting equation is statistically significant."
   ]
  },
  {
   "cell_type": "code",
   "execution_count": 62,
   "metadata": {},
   "outputs": [
    {
     "data": {
      "text/plain": [
       "{'fSts': 873.1608993622046, 'fCrit': 3.928195130372311, 'significant': True}"
      ]
     },
     "execution_count": 62,
     "metadata": {},
     "output_type": "execute_result"
    }
   ],
   "source": [
    "modelSignificance = {'fSts': fSts, 'fCrit': fCrit, 'significant': fSts > fCrit}\n",
    "modelSignificance"
   ]
  },
  {
   "attachments": {},
   "cell_type": "markdown",
   "metadata": {},
   "source": [
    "For an additional estimation of the equation's significance, we find the approximation error $\\hat{A}=\\frac{\\sum_{i=1}^{n}\\lvert \\frac{e_i}{y_i} \\rvert}{n}$. It will be equal to $1.822396737683716$. Since the resulting error is not included in the interval [5, 7], it once again confirms that the model can be used for predictions."
   ]
  },
  {
   "cell_type": "code",
   "execution_count": 23,
   "metadata": {},
   "outputs": [
    {
     "data": {
      "text/plain": [
       "1.822396737683716"
      ]
     },
     "execution_count": 23,
     "metadata": {},
     "output_type": "execute_result"
    }
   ],
   "source": [
    "approxErr = 1/n * np.abs(ei/y).sum()\n",
    "approxErr"
   ]
  },
  {
   "attachments": {},
   "cell_type": "markdown",
   "metadata": {},
   "source": [
    "#### 3.8. **Gauss-Markov assumptions**\n",
    "##### 3.8.1. Normal distribution of residuals\n",
    "To begin with, it is necessary to verify the first and last assumptions by checking the normality of the distribution of residuals using the Shapiro-Wilk goodness-of-fit test:"
   ]
  },
  {
   "cell_type": "code",
   "execution_count": 63,
   "metadata": {},
   "outputs": [
    {
     "data": {
      "text/plain": [
       "0.3747401535511017"
      ]
     },
     "execution_count": 63,
     "metadata": {},
     "output_type": "execute_result"
    }
   ],
   "source": [
    "# critical values are taken from table D5: https://www.epa.gov/sites/default/files/2015-10/documents/monitoring_appendd_1997.pdf\n",
    "\n",
    "eiNormTest = sps.shapiro(ei)\n",
    "eiNormTest.pvalue"
   ]
  },
  {
   "attachments": {},
   "cell_type": "markdown",
   "metadata": {},
   "source": [
    "##### 3.8.2. Residuals' heteroscedasticity\n",
    "Based on Shapiro Wilk test for normality we can see that the distribution of $e_i$ follows a normal one. Now we can check the heteroscedasticity of residuals using 4 different approaches:\n",
    "* graphical\n",
    "* Goldfeld-Quandt test\n",
    "* Breusch-Pagan test\n",
    "* Spirman test\n",
    "\n",
    "We will plot a joint distribution of $x$ и $e_i^2$ for the graphical test and see if there's any relation between them on the graph that can show a sign of heteroscedasticity:"
   ]
  },
  {
   "cell_type": "code",
   "execution_count": 66,
   "metadata": {},
   "outputs": [
    {
     "data": {
      "text/plain": [
       "Text(0.5, 1.0, 'Distribution of $x$ and $e_i^2$')"
      ]
     },
     "execution_count": 66,
     "metadata": {},
     "output_type": "execute_result"
    },
    {
     "data": {
      "image/png": "[encoded data removed]",
      "text/plain": [
       "<Figure size 640x480 with 1 Axes>"
      ]
     },
     "metadata": {},
     "output_type": "display_data"
    }
   ],
   "source": [
    "fig_hty, ax_hty = plt.subplots(1,1)\n",
    "ax_hty.scatter(x_train,ei**2)\n",
    "ax_hty.set_xlabel(\"x\")\n",
    "ax_hty.set_ylabel(\"$e_i^2$\")\n",
    "ax_hty.set_title('Distribution of $x$ and $e_i^2$')"
   ]
  },
  {
   "attachments": {},
   "cell_type": "markdown",
   "metadata": {},
   "source": [
    "By plotting a joint distribution we can confirm that there is no visible heteroscedasticity. Then we'll proceed to applying Goldfeld-Quandt test for heteroscedasticity:"
   ]
  },
  {
   "cell_type": "code",
   "execution_count": 69,
   "metadata": {},
   "outputs": [
    {
     "data": {
      "text/plain": [
       "{'fSts': 1.1315360155962075,\n",
       " 'fCrit': 3.928195130372311,\n",
       " 'heteroscedasticity in residuals': False}"
      ]
     },
     "execution_count": 69,
     "metadata": {},
     "output_type": "execute_result"
    }
   ],
   "source": [
    "from statsmodels.stats.diagnostic import het_goldfeldquandt\n",
    "\n",
    "fStsGQ = het_goldfeldquandt(y_train,x_train)[0] \n",
    "htyGoldfeldQuandtTest = {'fSts': fStsGQ, 'fCrit': fCrit, 'heteroscedasticity in residuals': fStsGQ > fCrit}\n",
    "htyGoldfeldQuandtTest"
   ]
  },
  {
   "attachments": {},
   "cell_type": "markdown",
   "metadata": {},
   "source": [
    "Goldfeld-Quandt test once again confirms that there's no proof of heteroscedasticity present in residuals. Same can be confirmed after applying Breusch-Pagan test when we once again decline $H_0$ hypothesis:"
   ]
  },
  {
   "cell_type": "code",
   "execution_count": 70,
   "metadata": {},
   "outputs": [
    {
     "data": {
      "text/plain": [
       "{'fSts': 0.6414582170886086,\n",
       " 'fCrit': 3.928195130372311,\n",
       " 'heteroscedasticity in residuals': False}"
      ]
     },
     "execution_count": 70,
     "metadata": {},
     "output_type": "execute_result"
    }
   ],
   "source": [
    "from statsmodels.stats.diagnostic import het_breuschpagan\n",
    "\n",
    "fStsBP = het_breuschpagan(ei, reg.model.exog)[2]\n",
    "htyBreuschPaganTest = {'fSts': fStsBP, 'fCrit': fCrit, 'heteroscedasticity in residuals': fStsBP > fCrit}\n",
    "htyBreuschPaganTest"
   ]
  },
  {
   "attachments": {},
   "cell_type": "markdown",
   "metadata": {},
   "source": [
    "Finally we will apply Spirman test for heteroscedasticity:"
   ]
  },
  {
   "cell_type": "code",
   "execution_count": 72,
   "metadata": {},
   "outputs": [
    {
     "data": {
      "text/plain": [
       "{'tsts': 0.8278472532725507,\n",
       " 'tcrit': 1.981967489688474,\n",
       " 'heteroscedasticity in residuals': False}"
      ]
     },
     "execution_count": 72,
     "metadata": {},
     "output_type": "execute_result"
    }
   ],
   "source": [
    "rho = sps.spearmanr(x_train, ei)[0]\n",
    "tStsSP = ((rho**2/(1-rho**2))*(len(x_train)-2))**0.5\n",
    "htySpirmanTest = {'tsts': tStsSP, 'tcrit': tCrit, 'heteroscedasticity in residuals': tStsSP > tCrit}\n",
    "htySpirmanTest"
   ]
  },
  {
   "attachments": {},
   "cell_type": "markdown",
   "metadata": {},
   "source": [
    "Spirman test confirms that $T_{stat} > T_{crit}$. This is why there's ground for rejecting the null hypothesis about heteroscedasticity amongst residuals."
   ]
  },
  {
   "attachments": {},
   "cell_type": "markdown",
   "metadata": {},
   "source": [
    "##### 3.8.3. Autocorrelation amongst residuals\n",
    "Since the research focuses on the single-factor model there is no need to consider multicollinearity. Therefore the last assumption to check is an absence of autocorrelation amongst residuals. We can do that by applying Durbin-Watson test:"
   ]
  },
  {
   "cell_type": "code",
   "execution_count": 74,
   "metadata": {},
   "outputs": [
    {
     "data": {
      "text/plain": [
       "2.0402710139140767"
      ]
     },
     "execution_count": 74,
     "metadata": {},
     "output_type": "execute_result"
    }
   ],
   "source": [
    "from statsmodels.stats.stattools import durbin_watson\n",
    "\n",
    "dw = durbin_watson(ei)\n",
    "dw "
   ]
  },
  {
   "attachments": {},
   "cell_type": "markdown",
   "metadata": {},
   "source": [
    "As shown above the DW statistic equals to $2.0402710139140767$ which shows that there little to no autocorrelation amongst residuals, therefore all Gauss-Markov assumptions are met confirming that the coeffiecients estimated under OLS method are BLUE. We can see that the CAPM model is not only statistically significant but can also give the least biased estimate based on the premium."
   ]
  },
  {
   "attachments": {},
   "cell_type": "markdown",
   "metadata": {},
   "source": [
    "#### 3.9. Using CAPM model for predictions\n",
    "Now we are predicting the profitability of the shares of Tesla (TSLA) for a specific period, for example - October, 2016. Under the terms of the task, we know the interest on US government bonds in October 2016 and, thus, the premium during this period. To begin with, we will determine the payments on bonds and data on stocks using previously used approaches:"
   ]
  },
  {
   "cell_type": "code",
   "execution_count": 75,
   "metadata": {},
   "outputs": [
    {
     "name": "stdout",
     "output_type": "stream",
     "text": [
      "[*********************100%***********************]  3 of 3 completed\n"
     ]
    }
   ],
   "source": [
    "october_filter_url = 'https://api.fiscaldata.treasury.gov/services/api/fiscal_service/v2/accounting/od/avg_interest_rates?page[size]=2166&&filter=record_date:eq:2011-10-31'\n",
    "yeild_april_data = float(list(filter(lambda record: record['security_desc'] == 'Treasury Bonds', requests.get(october_filter_url).json()['data']))[0]['avg_interest_rate_amt']) * .01 \n",
    "tsla_april_data = yf.download(tickers, start=datetime(2017,10,1), end=datetime(2017,11,2), interval='1mo')"
   ]
  },
  {
   "cell_type": "code",
   "execution_count": 76,
   "metadata": {},
   "outputs": [],
   "source": [
    "real_change = tsla_april_data['Adj Close'].pct_change().iloc[1,:]\n",
    "mu_m = np.sum(np.array(volumes) * real_change)\n",
    "premium = mu_m - yeild_april_data"
   ]
  },
  {
   "attachments": {},
   "cell_type": "markdown",
   "metadata": {},
   "source": [
    "Now we can use the model for forecasting the shares stock price:"
   ]
  },
  {
   "cell_type": "code",
   "execution_count": 77,
   "metadata": {},
   "outputs": [],
   "source": [
    "change_forecast = yHat(premium)"
   ]
  },
  {
   "cell_type": "code",
   "execution_count": 80,
   "metadata": {},
   "outputs": [
    {
     "data": {
      "text/plain": [
       "array(-0.08189523)"
      ]
     },
     "execution_count": 80,
     "metadata": {},
     "output_type": "execute_result"
    }
   ],
   "source": [
    "change_forecast"
   ]
  },
  {
   "attachments": {},
   "cell_type": "markdown",
   "metadata": {},
   "source": [
    "We can see that the predicted return and the real return vary by a small fraction of ~3%, which might be considered big in big investment portfolios but is hardly noticable in small ones. The forecasted value is inside the confidence interval `CI`, so, statistically speaking, this deviation is not significant with the confidence of 95%:"
   ]
  },
  {
   "cell_type": "code",
   "execution_count": 82,
   "metadata": {},
   "outputs": [
    {
     "data": {
      "text/plain": [
       "(-0.06841006150168283, array(-0.08189523))"
      ]
     },
     "execution_count": 82,
     "metadata": {},
     "output_type": "execute_result"
    }
   ],
   "source": [
    "real_change['TSLA'], change_forecast"
   ]
  },
  {
   "cell_type": "code",
   "execution_count": 81,
   "metadata": {},
   "outputs": [
    {
     "data": {
      "text/plain": [
       "[-0.094268022291958, -0.06952244502359857]"
      ]
     },
     "execution_count": 81,
     "metadata": {},
     "output_type": "execute_result"
    }
   ],
   "source": [
    "SE = np.std(ei) * np.sqrt(1/n+(premium-x.mean())**2/((n-1)*np.std(x)))\n",
    "CI = [change_forecast-SE*tCrit,change_forecast+SE*tCrit]\n",
    "CI"
   ]
  },
  {
   "attachments": {},
   "cell_type": "markdown",
   "metadata": {},
   "source": [
    "#### **4. Conclusion**\n",
    "In this paper we've confirmed that the CAPM model, which is a single-factor regression model, can be successfully used for stocks analysis and an estimation of returns in some portfolio. Moreover we've also automated the process of loading, preparing and obtaining a prediction has been automated via popular statistics packages for Python. The research of such models is relevant even today because predictive analysis using technologies provided by modern programming languages can not only greatly increase the efficiency of the process of organizing portfolio investments, but also improve the accuracy of the forecast, which is especially in demand in modern economic conditions."
   ]
  },
  {
   "attachments": {},
   "cell_type": "markdown",
   "metadata": {},
   "source": [
    "<br/>\n",
    "<h4><center><b>References</b></center></h4>\n",
    "\n",
    "1.\tFinance Yahoo! Yahoo Finance - Stock Market Live // Yahoo Finance. - 3 12 2022 / - https://finance.yahoo.com/.\n",
    "\n",
    "2.\tHao X.Y. Discussion of Theory and Applying of Capital Assets Pricing Models [Article] // Journal of Zhongyuan University of Technology.: Zhongyuan University of Technology, 2002 .\n",
    "\n",
    "3.\tSeaborn Example gallery - seaborn 0.12.1 // Seaborn - statistical data visualization library. - 03 12 2022 . - https://seaborn.pydata.org/examples/index.html.\n",
    "\n",
    "4.\tTreasury US U.S. Treasury Fiscal Data // U.S. Treasury Fiscal Data. - U.S. Federal Government. - 8 12 2022 . - https://fiscaldata.treasury.gov/.\n",
    "\n",
    "5.\twordlgovernmentbonds United States 1 Month Bond - Historical Data // wordlgovernmentbonds. - 03 12 2022 . - http://www.worldgovernmentbonds.com/bond-historical-data/united-states/1-month/.\n",
    "\n"
   ]
  }
 ],
 "metadata": {
  "kernelspec": {
   "display_name": "Python 3.10.4 64-bit",
   "language": "python",
   "name": "python3"
  },
  "language_info": {
   "codemirror_mode": {
    "name": "ipython",
    "version": 3
   },
   "file_extension": ".py",
   "mimetype": "text/x-python",
   "name": "python",
   "nbconvert_exporter": "python",
   "pygments_lexer": "ipython3",
   "version": "3.10.9"
  },
  "orig_nbformat": 4,
  "vscode": {
   "interpreter": {
    "hash": "22f152e4aadf5aa2be8914f95ec79d8f1d3e4bf3b12ca80464f0e1d2e34f321c"
   }
  }
 },
 "nbformat": 4,
 "nbformat_minor": 2
}
